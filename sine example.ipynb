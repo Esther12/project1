{
 "cells": [
  {
   "cell_type": "code",
   "execution_count": 1,
   "metadata": {
    "collapsed": true
   },
   "outputs": [],
   "source": [
    "import numpy as np;\n",
    "import matplotlib.pyplot as plt\n",
    "%matplotlib inline"
   ]
  },
  {
   "cell_type": "code",
   "execution_count": 2,
   "metadata": {
    "collapsed": true
   },
   "outputs": [],
   "source": [
    "x = np.arange(0, 2* np.pi, 0.01)"
   ]
  },
  {
   "cell_type": "code",
   "execution_count": 3,
   "metadata": {
    "collapsed": false,
    "scrolled": true
   },
   "outputs": [
    {
     "data": {
      "text/plain": [
       "array([ 0.  ,  0.01,  0.02,  0.03,  0.04,  0.05,  0.06,  0.07,  0.08,\n",
       "        0.09,  0.1 ,  0.11,  0.12,  0.13,  0.14,  0.15,  0.16,  0.17,\n",
       "        0.18,  0.19,  0.2 ,  0.21,  0.22,  0.23,  0.24,  0.25,  0.26,\n",
       "        0.27,  0.28,  0.29,  0.3 ,  0.31,  0.32,  0.33,  0.34,  0.35,\n",
       "        0.36,  0.37,  0.38,  0.39,  0.4 ,  0.41,  0.42,  0.43,  0.44,\n",
       "        0.45,  0.46,  0.47,  0.48,  0.49,  0.5 ,  0.51,  0.52,  0.53,\n",
       "        0.54,  0.55,  0.56,  0.57,  0.58,  0.59,  0.6 ,  0.61,  0.62,\n",
       "        0.63,  0.64,  0.65,  0.66,  0.67,  0.68,  0.69,  0.7 ,  0.71,\n",
       "        0.72,  0.73,  0.74,  0.75,  0.76,  0.77,  0.78,  0.79,  0.8 ,\n",
       "        0.81,  0.82,  0.83,  0.84,  0.85,  0.86,  0.87,  0.88,  0.89,\n",
       "        0.9 ,  0.91,  0.92,  0.93,  0.94,  0.95,  0.96,  0.97,  0.98,\n",
       "        0.99,  1.  ,  1.01,  1.02,  1.03,  1.04,  1.05,  1.06,  1.07,\n",
       "        1.08,  1.09,  1.1 ,  1.11,  1.12,  1.13,  1.14,  1.15,  1.16,\n",
       "        1.17,  1.18,  1.19,  1.2 ,  1.21,  1.22,  1.23,  1.24,  1.25,\n",
       "        1.26,  1.27,  1.28,  1.29,  1.3 ,  1.31,  1.32,  1.33,  1.34,\n",
       "        1.35,  1.36,  1.37,  1.38,  1.39,  1.4 ,  1.41,  1.42,  1.43,\n",
       "        1.44,  1.45,  1.46,  1.47,  1.48,  1.49,  1.5 ,  1.51,  1.52,\n",
       "        1.53,  1.54,  1.55,  1.56,  1.57,  1.58,  1.59,  1.6 ,  1.61,\n",
       "        1.62,  1.63,  1.64,  1.65,  1.66,  1.67,  1.68,  1.69,  1.7 ,\n",
       "        1.71,  1.72,  1.73,  1.74,  1.75,  1.76,  1.77,  1.78,  1.79,\n",
       "        1.8 ,  1.81,  1.82,  1.83,  1.84,  1.85,  1.86,  1.87,  1.88,\n",
       "        1.89,  1.9 ,  1.91,  1.92,  1.93,  1.94,  1.95,  1.96,  1.97,\n",
       "        1.98,  1.99,  2.  ,  2.01,  2.02,  2.03,  2.04,  2.05,  2.06,\n",
       "        2.07,  2.08,  2.09,  2.1 ,  2.11,  2.12,  2.13,  2.14,  2.15,\n",
       "        2.16,  2.17,  2.18,  2.19,  2.2 ,  2.21,  2.22,  2.23,  2.24,\n",
       "        2.25,  2.26,  2.27,  2.28,  2.29,  2.3 ,  2.31,  2.32,  2.33,\n",
       "        2.34,  2.35,  2.36,  2.37,  2.38,  2.39,  2.4 ,  2.41,  2.42,\n",
       "        2.43,  2.44,  2.45,  2.46,  2.47,  2.48,  2.49,  2.5 ,  2.51,\n",
       "        2.52,  2.53,  2.54,  2.55,  2.56,  2.57,  2.58,  2.59,  2.6 ,\n",
       "        2.61,  2.62,  2.63,  2.64,  2.65,  2.66,  2.67,  2.68,  2.69,\n",
       "        2.7 ,  2.71,  2.72,  2.73,  2.74,  2.75,  2.76,  2.77,  2.78,\n",
       "        2.79,  2.8 ,  2.81,  2.82,  2.83,  2.84,  2.85,  2.86,  2.87,\n",
       "        2.88,  2.89,  2.9 ,  2.91,  2.92,  2.93,  2.94,  2.95,  2.96,\n",
       "        2.97,  2.98,  2.99,  3.  ,  3.01,  3.02,  3.03,  3.04,  3.05,\n",
       "        3.06,  3.07,  3.08,  3.09,  3.1 ,  3.11,  3.12,  3.13,  3.14,\n",
       "        3.15,  3.16,  3.17,  3.18,  3.19,  3.2 ,  3.21,  3.22,  3.23,\n",
       "        3.24,  3.25,  3.26,  3.27,  3.28,  3.29,  3.3 ,  3.31,  3.32,\n",
       "        3.33,  3.34,  3.35,  3.36,  3.37,  3.38,  3.39,  3.4 ,  3.41,\n",
       "        3.42,  3.43,  3.44,  3.45,  3.46,  3.47,  3.48,  3.49,  3.5 ,\n",
       "        3.51,  3.52,  3.53,  3.54,  3.55,  3.56,  3.57,  3.58,  3.59,\n",
       "        3.6 ,  3.61,  3.62,  3.63,  3.64,  3.65,  3.66,  3.67,  3.68,\n",
       "        3.69,  3.7 ,  3.71,  3.72,  3.73,  3.74,  3.75,  3.76,  3.77,\n",
       "        3.78,  3.79,  3.8 ,  3.81,  3.82,  3.83,  3.84,  3.85,  3.86,\n",
       "        3.87,  3.88,  3.89,  3.9 ,  3.91,  3.92,  3.93,  3.94,  3.95,\n",
       "        3.96,  3.97,  3.98,  3.99,  4.  ,  4.01,  4.02,  4.03,  4.04,\n",
       "        4.05,  4.06,  4.07,  4.08,  4.09,  4.1 ,  4.11,  4.12,  4.13,\n",
       "        4.14,  4.15,  4.16,  4.17,  4.18,  4.19,  4.2 ,  4.21,  4.22,\n",
       "        4.23,  4.24,  4.25,  4.26,  4.27,  4.28,  4.29,  4.3 ,  4.31,\n",
       "        4.32,  4.33,  4.34,  4.35,  4.36,  4.37,  4.38,  4.39,  4.4 ,\n",
       "        4.41,  4.42,  4.43,  4.44,  4.45,  4.46,  4.47,  4.48,  4.49,\n",
       "        4.5 ,  4.51,  4.52,  4.53,  4.54,  4.55,  4.56,  4.57,  4.58,\n",
       "        4.59,  4.6 ,  4.61,  4.62,  4.63,  4.64,  4.65,  4.66,  4.67,\n",
       "        4.68,  4.69,  4.7 ,  4.71,  4.72,  4.73,  4.74,  4.75,  4.76,\n",
       "        4.77,  4.78,  4.79,  4.8 ,  4.81,  4.82,  4.83,  4.84,  4.85,\n",
       "        4.86,  4.87,  4.88,  4.89,  4.9 ,  4.91,  4.92,  4.93,  4.94,\n",
       "        4.95,  4.96,  4.97,  4.98,  4.99,  5.  ,  5.01,  5.02,  5.03,\n",
       "        5.04,  5.05,  5.06,  5.07,  5.08,  5.09,  5.1 ,  5.11,  5.12,\n",
       "        5.13,  5.14,  5.15,  5.16,  5.17,  5.18,  5.19,  5.2 ,  5.21,\n",
       "        5.22,  5.23,  5.24,  5.25,  5.26,  5.27,  5.28,  5.29,  5.3 ,\n",
       "        5.31,  5.32,  5.33,  5.34,  5.35,  5.36,  5.37,  5.38,  5.39,\n",
       "        5.4 ,  5.41,  5.42,  5.43,  5.44,  5.45,  5.46,  5.47,  5.48,\n",
       "        5.49,  5.5 ,  5.51,  5.52,  5.53,  5.54,  5.55,  5.56,  5.57,\n",
       "        5.58,  5.59,  5.6 ,  5.61,  5.62,  5.63,  5.64,  5.65,  5.66,\n",
       "        5.67,  5.68,  5.69,  5.7 ,  5.71,  5.72,  5.73,  5.74,  5.75,\n",
       "        5.76,  5.77,  5.78,  5.79,  5.8 ,  5.81,  5.82,  5.83,  5.84,\n",
       "        5.85,  5.86,  5.87,  5.88,  5.89,  5.9 ,  5.91,  5.92,  5.93,\n",
       "        5.94,  5.95,  5.96,  5.97,  5.98,  5.99,  6.  ,  6.01,  6.02,\n",
       "        6.03,  6.04,  6.05,  6.06,  6.07,  6.08,  6.09,  6.1 ,  6.11,\n",
       "        6.12,  6.13,  6.14,  6.15,  6.16,  6.17,  6.18,  6.19,  6.2 ,\n",
       "        6.21,  6.22,  6.23,  6.24,  6.25,  6.26,  6.27,  6.28])"
      ]
     },
     "execution_count": 3,
     "metadata": {},
     "output_type": "execute_result"
    }
   ],
   "source": [
    "x"
   ]
  },
  {
   "cell_type": "code",
   "execution_count": 4,
   "metadata": {
    "collapsed": true
   },
   "outputs": [],
   "source": [
    "y = np.sin(x)"
   ]
  },
  {
   "cell_type": "code",
   "execution_count": 5,
   "metadata": {
    "collapsed": false
   },
   "outputs": [
    {
     "data": {
      "text/plain": [
       "array([ 0.        ,  0.00999983,  0.01999867,  0.0299955 ,  0.03998933,\n",
       "        0.04997917,  0.05996401,  0.06994285,  0.07991469,  0.08987855,\n",
       "        0.09983342,  0.1097783 ,  0.11971221,  0.12963414,  0.13954311,\n",
       "        0.14943813,  0.15931821,  0.16918235,  0.17902957,  0.18885889,\n",
       "        0.19866933,  0.2084599 ,  0.21822962,  0.22797752,  0.23770263,\n",
       "        0.24740396,  0.25708055,  0.26673144,  0.27635565,  0.28595223,\n",
       "        0.29552021,  0.30505864,  0.31456656,  0.32404303,  0.33348709,\n",
       "        0.34289781,  0.35227423,  0.36161543,  0.37092047,  0.38018842,\n",
       "        0.38941834,  0.39860933,  0.40776045,  0.4168708 ,  0.42593947,\n",
       "        0.43496553,  0.44394811,  0.45288629,  0.46177918,  0.47062589,\n",
       "        0.47942554,  0.48817725,  0.49688014,  0.50553334,  0.51413599,\n",
       "        0.52268723,  0.5311862 ,  0.53963205,  0.54802394,  0.55636102,\n",
       "        0.56464247,  0.57286746,  0.58103516,  0.58914476,  0.59719544,\n",
       "        0.60518641,  0.61311685,  0.62098599,  0.62879302,  0.63653718,\n",
       "        0.64421769,  0.65183377,  0.65938467,  0.66686964,  0.67428791,\n",
       "        0.68163876,  0.68892145,  0.69613524,  0.70327942,  0.71035327,\n",
       "        0.71735609,  0.72428717,  0.73114583,  0.73793137,  0.74464312,\n",
       "        0.75128041,  0.75784256,  0.76432894,  0.77073888,  0.77707175,\n",
       "        0.78332691,  0.78950374,  0.79560162,  0.80161994,  0.8075581 ,\n",
       "        0.8134155 ,  0.81919157,  0.82488571,  0.83049737,  0.83602598,\n",
       "        0.84147098,  0.84683184,  0.85210802,  0.85729899,  0.86240423,\n",
       "        0.86742323,  0.87235548,  0.8772005 ,  0.88195781,  0.88662691,\n",
       "        0.89120736,  0.89569869,  0.90010044,  0.90441219,  0.9086335 ,\n",
       "        0.91276394,  0.91680311,  0.9207506 ,  0.92460601,  0.92836897,\n",
       "        0.93203909,  0.935616  ,  0.93909936,  0.9424888 ,  0.945784  ,\n",
       "        0.94898462,  0.95209034,  0.95510086,  0.95801586,  0.96083506,\n",
       "        0.96355819,  0.96618495,  0.9687151 ,  0.97114838,  0.97348454,\n",
       "        0.97572336,  0.9778646 ,  0.97990806,  0.98185353,  0.98370081,\n",
       "        0.98544973,  0.9871001 ,  0.98865176,  0.99010456,  0.99145835,\n",
       "        0.99271299,  0.99386836,  0.99492435,  0.99588084,  0.99673775,\n",
       "        0.99749499,  0.99815247,  0.99871014,  0.99916795,  0.99952583,\n",
       "        0.99978376,  0.99994172,  0.99999968,  0.99995765,  0.99981562,\n",
       "        0.9995736 ,  0.99923163,  0.99878974,  0.99824797,  0.99760638,\n",
       "        0.99686503,  0.99602399,  0.99508335,  0.9940432 ,  0.99290365,\n",
       "        0.99166481,  0.9903268 ,  0.98888977,  0.98735384,  0.98571918,\n",
       "        0.98398595,  0.98215432,  0.98022447,  0.97819661,  0.97607092,\n",
       "        0.97384763,  0.97152696,  0.96910913,  0.96659439,  0.963983  ,\n",
       "        0.9612752 ,  0.95847128,  0.95557152,  0.95257619,  0.94948561,\n",
       "        0.94630009,  0.94301993,  0.93964547,  0.93617705,  0.93261501,\n",
       "        0.92895972,  0.92521152,  0.92137081,  0.91743796,  0.91341336,\n",
       "        0.90929743,  0.90509056,  0.90079319,  0.89640574,  0.89192865,\n",
       "        0.88736237,  0.88270735,  0.87796406,  0.87313298,  0.86821458,\n",
       "        0.86320937,  0.85811783,  0.85294048,  0.84767784,  0.84233043,\n",
       "        0.83689879,  0.83138346,  0.82578499,  0.82010395,  0.81434089,\n",
       "        0.8084964 ,  0.80257107,  0.79656547,  0.79048022,  0.78431593,\n",
       "        0.7780732 ,  0.77175266,  0.76535495,  0.75888071,  0.75233058,\n",
       "        0.74570521,  0.73900528,  0.73223144,  0.72538439,  0.71846479,\n",
       "        0.71147335,  0.70441077,  0.69727774,  0.69007498,  0.68280322,\n",
       "        0.67546318,  0.66805559,  0.6605812 ,  0.65304075,  0.645435  ,\n",
       "        0.6377647 ,  0.63003063,  0.62223356,  0.61437426,  0.60645352,\n",
       "        0.59847214,  0.59043092,  0.58233065,  0.57417215,  0.56595623,\n",
       "        0.55768372,  0.54935544,  0.54097222,  0.53253491,  0.52404434,\n",
       "        0.51550137,  0.50690685,  0.49826164,  0.48956661,  0.48082261,\n",
       "        0.47203054,  0.46319126,  0.45430567,  0.44537464,  0.43639908,\n",
       "        0.42737988,  0.41831794,  0.40921417,  0.40006948,  0.39088478,\n",
       "        0.38166099,  0.37239904,  0.36309985,  0.35376435,  0.34439347,\n",
       "        0.33498815,  0.32554933,  0.31607796,  0.30657499,  0.29704135,\n",
       "        0.28747801,  0.27788593,  0.26826605,  0.25861935,  0.24894679,\n",
       "        0.23924933,  0.22952795,  0.21978361,  0.2100173 ,  0.20022998,\n",
       "        0.19042265,  0.18059627,  0.17075183,  0.16089031,  0.15101271,\n",
       "        0.14112001,  0.13121319,  0.12129326,  0.11136119,  0.10141799,\n",
       "        0.09146464,  0.08150215,  0.07153151,  0.06155372,  0.05156977,\n",
       "        0.04158066,  0.0315874 ,  0.02159098,  0.01159239,  0.00159265,\n",
       "       -0.00840725, -0.01840631, -0.02840353, -0.0383979 , -0.04838844,\n",
       "       -0.05837414, -0.06835401, -0.07832703, -0.08829223, -0.09824859,\n",
       "       -0.10819513, -0.11813086, -0.12805476, -0.13796587, -0.14786317,\n",
       "       -0.15774569, -0.16761244, -0.17746242, -0.18729466, -0.19710817,\n",
       "       -0.20690197, -0.21667508, -0.22642652, -0.23615532, -0.2458605 ,\n",
       "       -0.2555411 , -0.26519615, -0.27482467, -0.28442571, -0.29399831,\n",
       "       -0.30354151, -0.31305436, -0.3225359 , -0.33198519, -0.34140128,\n",
       "       -0.35078323, -0.3601301 , -0.36944096, -0.37871487, -0.38795092,\n",
       "       -0.39714817, -0.4063057 , -0.41542261, -0.42449797, -0.43353088,\n",
       "       -0.44252044, -0.45146575, -0.46036591, -0.46922004, -0.47802725,\n",
       "       -0.48678665, -0.49549737, -0.50415855, -0.51276931, -0.52132879,\n",
       "       -0.52983614, -0.53829051, -0.54669105, -0.55503692, -0.56332728,\n",
       "       -0.57156132, -0.5797382 , -0.5878571 , -0.59591722, -0.60391775,\n",
       "       -0.61185789, -0.61973684, -0.62755382, -0.63530805, -0.64299874,\n",
       "       -0.65062514, -0.65818647, -0.66568199, -0.67311093, -0.68047257,\n",
       "       -0.68776616, -0.69499097, -0.70214629, -0.70923139, -0.71624557,\n",
       "       -0.72318812, -0.73005836, -0.73685559, -0.74357914, -0.75022833,\n",
       "       -0.7568025 , -0.76330098, -0.76972314, -0.77606833, -0.78233591,\n",
       "       -0.78852525, -0.79463575, -0.80066678, -0.80661775, -0.81248805,\n",
       "       -0.81827711, -0.82398434, -0.82960917, -0.83515105, -0.8406094 ,\n",
       "       -0.8459837 , -0.8512734 , -0.85647797, -0.8615969 , -0.86662967,\n",
       "       -0.87157577, -0.87643472, -0.88120603, -0.88588921, -0.89048381,\n",
       "       -0.89498936, -0.89940541, -0.90373152, -0.90796726, -0.9121122 ,\n",
       "       -0.91616594, -0.92012805, -0.92399816, -0.92777586, -0.93146079,\n",
       "       -0.93505258, -0.93855086, -0.94195528, -0.94526551, -0.94848122,\n",
       "       -0.95160207, -0.95462777, -0.95755801, -0.96039249, -0.96313093,\n",
       "       -0.96577306, -0.96831861, -0.97076734, -0.97311898, -0.97537332,\n",
       "       -0.97753012, -0.97958916, -0.98155025, -0.98341319, -0.98517778,\n",
       "       -0.98684386, -0.98841125, -0.98987981, -0.99124937, -0.99251981,\n",
       "       -0.993691  , -0.99476283, -0.99573517, -0.99660795, -0.99738106,\n",
       "       -0.99805444, -0.99862801, -0.99910172, -0.99947552, -0.99974938,\n",
       "       -0.99992326, -0.99999715, -0.99997104, -0.99984493, -0.99961884,\n",
       "       -0.99929279, -0.99886681, -0.99834094, -0.99771525, -0.99698978,\n",
       "       -0.99616461, -0.99523983, -0.99421552, -0.99309179, -0.99186876,\n",
       "       -0.99054654, -0.98912526, -0.98760507, -0.98598613, -0.98426858,\n",
       "       -0.98245261, -0.9805384 , -0.97852613, -0.97641601, -0.97420825,\n",
       "       -0.97190307, -0.9695007 , -0.96700138, -0.96440536, -0.9617129 ,\n",
       "       -0.95892427, -0.95603975, -0.95305963, -0.9499842 , -0.94681378,\n",
       "       -0.94354867, -0.94018921, -0.93673573, -0.93318858, -0.92954811,\n",
       "       -0.92581468, -0.92198868, -0.91807047, -0.91406047, -0.90995905,\n",
       "       -0.90576664, -0.90148366, -0.89711052, -0.89264768, -0.88809557,\n",
       "       -0.88345466, -0.87872539, -0.87390826, -0.86900374, -0.86401232,\n",
       "       -0.85893449, -0.85377078, -0.84852169, -0.84318774, -0.83776948,\n",
       "       -0.83226744, -0.82668218, -0.82101425, -0.81526421, -0.80943266,\n",
       "       -0.80352016, -0.7975273 , -0.7914547 , -0.78530295, -0.77907267,\n",
       "       -0.77276449, -0.76637903, -0.75991693, -0.75337884, -0.74676541,\n",
       "       -0.74007731, -0.7333152 , -0.72647976, -0.71957167, -0.71259163,\n",
       "       -0.70554033, -0.69841847, -0.69122677, -0.68396595, -0.67663674,\n",
       "       -0.66923986, -0.66177605, -0.65424608, -0.64665067, -0.6389906 ,\n",
       "       -0.63126664, -0.62347955, -0.61563011, -0.6077191 , -0.59974733,\n",
       "       -0.59171558, -0.58362466, -0.57547538, -0.56726855, -0.559005  ,\n",
       "       -0.55068554, -0.54231102, -0.53388227, -0.52540013, -0.51686544,\n",
       "       -0.50827908, -0.49964188, -0.49095472, -0.48221847, -0.473434  ,\n",
       "       -0.46460218, -0.4557239 , -0.44680005, -0.43783152, -0.42881921,\n",
       "       -0.41976402, -0.41066685, -0.40152861, -0.39235022, -0.3831326 ,\n",
       "       -0.37387666, -0.36458334, -0.35525356, -0.34588825, -0.33648836,\n",
       "       -0.32705481, -0.31758857, -0.30809056, -0.29856174, -0.28900307,\n",
       "       -0.2794155 , -0.26979998, -0.26015749, -0.25048898, -0.24079543,\n",
       "       -0.23107779, -0.22133704, -0.21157417, -0.20179013, -0.19198592,\n",
       "       -0.1821625 , -0.17232088, -0.16246202, -0.15258691, -0.14269654,\n",
       "       -0.13279191, -0.122874  , -0.11294379, -0.1030023 , -0.0930505 ,\n",
       "       -0.0830894 , -0.07311999, -0.06314327, -0.05316024, -0.04317189,\n",
       "       -0.03317922, -0.02318323, -0.01318493, -0.0031853 ])"
      ]
     },
     "execution_count": 5,
     "metadata": {},
     "output_type": "execute_result"
    }
   ],
   "source": [
    "y"
   ]
  },
  {
   "cell_type": "code",
   "execution_count": 6,
   "metadata": {
    "collapsed": false
   },
   "outputs": [
    {
     "data": {
      "text/plain": [
       "[<matplotlib.lines.Line2D at 0x7c6cf60>]"
      ]
     },
     "execution_count": 6,
     "metadata": {},
     "output_type": "execute_result"
    },
    {
     "data": {
      "image/png": "[encoded data removed]",
      "text/plain": [
       "<matplotlib.figure.Figure at 0x48e1cf8>"
      ]
     },
     "metadata": {},
     "output_type": "display_data"
    }
   ],
   "source": [
    "plt.plot(x, y)"
   ]
  },
  {
   "cell_type": "code",
   "execution_count": null,
   "metadata": {
    "collapsed": true
   },
   "outputs": [],
   "source": []
  }
 ],
 "metadata": {
  "kernelspec": {
   "display_name": "Python 3",
   "language": "python",
   "name": "python3"
  },
  "language_info": {
   "codemirror_mode": {
    "name": "ipython",
    "version": 3
   },
   "file_extension": ".py",
   "mimetype": "text/x-python",
   "name": "python",
   "nbconvert_exporter": "python",
   "pygments_lexer": "ipython3",
   "version": "3.6.0"
  }
 },
 "nbformat": 4,
 "nbformat_minor": 2
}
